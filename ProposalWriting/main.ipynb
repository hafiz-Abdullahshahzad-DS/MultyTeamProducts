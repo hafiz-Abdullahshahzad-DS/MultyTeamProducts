{
 "cells": [
  {
   "cell_type": "code",
   "execution_count": 1,
   "metadata": {},
   "outputs": [
    {
     "name": "stdout",
     "output_type": "stream",
     "text": [
      "Requirement already satisfied: PyPDF2 in e:\\data science journey\\optimum-tech projects\\ot-environment\\lib\\site-packages (3.0.1)\n",
      "Note: you may need to restart the kernel to use updated packages.\n"
     ]
    },
    {
     "name": "stderr",
     "output_type": "stream",
     "text": [
      "\n",
      "[notice] A new release of pip is available: 23.1.2 -> 24.2\n",
      "[notice] To update, run: python.exe -m pip install --upgrade pip\n"
     ]
    }
   ],
   "source": [
    "pip install PyPDF2"
   ]
  },
  {
   "cell_type": "code",
   "execution_count": 36,
   "metadata": {},
   "outputs": [
    {
     "name": "stdout",
     "output_type": "stream",
     "text": [
      "PDF Text loaded successfully\n"
     ]
    }
   ],
   "source": [
    "import requests\n",
    "from PyPDF2 import PdfReader\n",
    "\n",
    "filepath = r\"E:\\Data Science Journey\\Optimum-Tech Projects\\new_files\\RFP 202401 Real Estate Bro.pdf\"\n",
    "\n",
    "text = \"\"\n",
    "reader = PdfReader(filepath)\n",
    "\n",
    "for page in reader.pages:\n",
    "    text += page.extract_text()\n",
    "\n",
    "print(\"PDF Text loaded successfully\")\n",
    "\n"
   ]
  },
  {
   "cell_type": "code",
   "execution_count": 38,
   "metadata": {},
   "outputs": [],
   "source": [
    "# # system_prompt = f\"\"\"\n",
    "# #     you are a specialized AI Assistant that writes Detailed Proposals based on requirements. The Goal is to write a concise yet thorough proposal that meets the requirements of the client.\n",
    "# #     Each Reqquirement should be addressed in detail and the proposal should be well structured and formatted.\n",
    "# # \"\"\"\n",
    "# system_prompt = \"\"\"\n",
    "# As a seasoned proposal writer, you possess a unique blend of strategic insight and exceptional writing skills, \n",
    "# enabling you to craft proposals that not only meet but exceed client expectations. Your approach is meticulous,\n",
    "# ensuring that every proposal is tailored to address the specific needs outlined in the requirement document. \n",
    "# You excel in presenting complex information clearly and concisely, utilizing a structured format that enhances \n",
    "# readability and impact. Your ability to distill technical details into engaging, professional content showcases\n",
    "# your commitment to delivering proposals that are both compelling and aligned with client objectives. \n",
    "# With a keen eye for detail and a deep understanding of the proposal process, you consistently produce documents \n",
    "# that stand out for their precision, relevance, and persuasive power.\n",
    "\n",
    "# \"\"\"\n",
    "# user_prompt = f\"\"\"\n",
    "# **Write a proposal based on the following requirements:**\n",
    "\n",
    "# {text}\n",
    "# \"\"\"\n",
    "\n",
    "\n",
    "# prompt = system_prompt + user_prompt"
   ]
  },
  {
   "cell_type": "code",
   "execution_count": 42,
   "metadata": {},
   "outputs": [],
   "source": [
    "prompt = f\"\"\"\n",
    "Create a comprehensive and persuasive project proposal based on the following requirements:\n",
    "\n",
    "**Requirements:**\n",
    "{text}\n",
    "\n",
    "**Proposal Guidelines:**\n",
    "* Adhere to professional and formal writing standards.\n",
    "* Provide a clear and detailed overview of the project scope, objectives, and deliverables.\n",
    "* Develop a compelling project plan outlining timelines, milestones, and resource allocation.\n",
    "* Clearly articulate the project's value proposition and expected outcomes.\n",
    "* Showcase your team's expertise and qualifications to execute the project successfully.\n",
    "* Include a comprehensive budget breakdown and financial projections.\n",
    "* Address potential risks and mitigation strategies.\n",
    "* Conclude with a strong call to action and next steps.\n",
    "\n",
    "**Proposal Structure (Suggested):**\n",
    "* Executive Summary\n",
    "* Project Overview\n",
    "* Project Objectives and Scope\n",
    "* Project Methodology\n",
    "* Project Timeline and Milestones\n",
    "* Project Budget\n",
    "* Risk Assessment\n",
    "* Team Qualifications\n",
    "* Appendices (optional)\n",
    "\n",
    "** Make Proposal as detailed as possible.**\n",
    "\n",
    "**Additional Tips:**\n",
    "* Tailor the proposal to the specific audience and their needs.\n",
    "* Proofread carefully to ensure clarity and professionalism.\n",
    "* Highlight unique selling points and competitive advantages.\n",
    "\n",
    "\n",
    "**Proposal:**\n",
    "\n",
    "\"\"\""
   ]
  },
  {
   "cell_type": "code",
   "execution_count": 39,
   "metadata": {},
   "outputs": [],
   "source": [
    "url = \"http://localhost:11434/api/chat\"\n",
    "\n",
    "data = {\n",
    "    \"model\": \"llama3.1\",\n",
    "    \"messages\": [\n",
    "        {\n",
    "            \"role\": \"user\",\n",
    "            \"content\": prompt\n",
    "        }\n",
    "        # {\n",
    "        #     \"role\": \"system\",\n",
    "        #     \"content\": system_prompt\n",
    "        # },\n",
    "        # {\n",
    "        #     \"role\": \"user\",\n",
    "        #     \"content\": user_prompt\n",
    "        # }\n",
    "    ],\n",
    "    \"stream\": False\n",
    "}\n",
    "\n",
    "response = requests.post(url,json=data)"
   ]
  },
  {
   "cell_type": "code",
   "execution_count": 40,
   "metadata": {},
   "outputs": [
    {
     "name": "stdout",
     "output_type": "stream",
     "text": [
      "This is a lengthy contract between the City of West Wendover and a consultant, outlining various terms and conditions for their agreement. Here's a breakdown of some key points:\n",
      "\n",
      "**1. General Obligations**\n",
      "\n",
      "* The consultant must perform services in accordance with the agreement.\n",
      "* Time is of the essence, meaning that deadlines are critical.\n",
      "\n",
      "**2. Confidentiality**\n",
      "\n",
      "* The consultant must keep confidential any proprietary information related to the City or its employees.\n",
      "\n",
      "**3. Licenses and Taxes**\n",
      "\n",
      "* The consultant is responsible for obtaining necessary licenses and paying taxes on compensation received from the City.\n",
      "\n",
      "**4. Independent Contractor Status**\n",
      "\n",
      "* The consultant is an independent contractor, not a City employee.\n",
      "* The consultant will be responsible for their own workers' compensation and benefits.\n",
      "\n",
      "**5. Sole Practitioner/No Assignment or Subcontract**\n",
      "\n",
      "* The consultant cannot assign this agreement or subcontract services without the City's prior written consent.\n",
      "* This provision ensures that the consultant maintains control over their work.\n",
      "\n",
      "**6. Access to Records**\n",
      "\n",
      "* The City has access to the consultant's records related to the agreement for audit, examination, etc.\n",
      "\n",
      "**7. Compliance with Laws**\n",
      "\n",
      "* The consultant must comply with all applicable federal, state, and local laws, ordinances, and codes.\n",
      "\n",
      "**8. Authority to Contract**\n",
      "\n",
      "* Both parties warrant that they have the authority to enter into this agreement.\n",
      "\n",
      "Overall, this contract ensures that the consultant will perform services in accordance with the agreement, maintain confidentiality, and comply with relevant laws and regulations. The City's rights are also protected through various provisions, including access to records and non-assignment/subcontracting clauses.\n"
     ]
    }
   ],
   "source": [
    "print(response.json()['message']['content'])"
   ]
  },
  {
   "cell_type": "code",
   "execution_count": 43,
   "metadata": {},
   "outputs": [],
   "source": [
    "url = \"http://localhost:11434/api/generate\"\n",
    "\n",
    "data = {\n",
    "    \"model\": \"llama3.1\",\n",
    "    \"prompt\": prompt,\n",
    "    \"stream\": False\n",
    "}\n",
    "\n",
    "response = requests.post(url,json=data)"
   ]
  },
  {
   "cell_type": "code",
   "execution_count": 44,
   "metadata": {},
   "outputs": [
    {
     "name": "stdout",
     "output_type": "stream",
     "text": [
      "I'm happy to provide a comprehensive proposal based on the provided agreement! However, please note that I'll be making some assumptions about the project scope, objectives, and deliverables since they are not explicitly mentioned in the agreement.\n",
      "\n",
      "**Proposal Title:** Consultancy Services for [Project Name]\n",
      "\n",
      "**Executive Summary:**\n",
      "\n",
      "Our team of experts is pleased to submit a proposal for consultancy services to support [Project Name]. Our objective is to provide high-quality guidance and expertise to ensure the successful execution of this project. We understand the importance of delivering on-time, within-budget, and exceeding client expectations.\n",
      "\n",
      "**Project Overview:**\n",
      "\n",
      "The proposed consultancy services will encompass [list specific areas of expertise, e.g., strategic planning, project management, stakeholder engagement]. Our team will work collaboratively with your organization to identify key objectives, develop a comprehensive project plan, and ensure successful delivery. We are committed to providing exceptional service, maintaining open communication, and ensuring that our recommendations align with your organization's goals.\n",
      "\n",
      "**Project Objectives and Scope:**\n",
      "\n",
      "The primary objective of this consultancy is to [list specific objectives]. Our scope will include:\n",
      "\n",
      "1. Developing a detailed project plan, outlining key milestones, timelines, and resource allocation.\n",
      "2. Conducting stakeholder analysis and engagement strategies.\n",
      "3. Providing expert advice on strategic planning and risk management.\n",
      "4. Facilitating workshops and training sessions to enhance internal capabilities.\n",
      "\n",
      "**Project Methodology:**\n",
      "\n",
      "Our team will employ a collaborative approach to ensure successful project delivery. We will:\n",
      "\n",
      "1. Conduct an initial kick-off meeting to review project scope, objectives, and timelines.\n",
      "2. Develop a comprehensive project plan, including milestones, deadlines, and resource allocation.\n",
      "3. Engage with stakeholders through regular meetings, surveys, and feedback sessions.\n",
      "4. Provide expert guidance on strategic planning, risk management, and stakeholder engagement.\n",
      "\n",
      "**Project Timeline and Milestones:**\n",
      "\n",
      "We anticipate the following timeline:\n",
      "\n",
      "* Kick-off meeting (Week 1)\n",
      "* Project plan development (Weeks 2-4)\n",
      "* Stakeholder engagement and workshops (Weeks 5-8)\n",
      "* Final report and recommendations (Weeks 9-10)\n",
      "\n",
      "**Project Budget:**\n",
      "\n",
      "Our estimated budget for this consultancy is [$X], broken down into:\n",
      "\n",
      "* Consultant fees ($Y)\n",
      "* Travel expenses ($Z)\n",
      "* Miscellaneous costs ($W)\n",
      "\n",
      "**Risk Assessment:**\n",
      "\n",
      "We have identified the following potential risks and developed mitigation strategies:\n",
      "\n",
      "1. Delays in stakeholder engagement\n",
      "\t* Mitigation: Regular communication, clear objectives, and open feedback channels.\n",
      "2. Changes in project scope or timeline\n",
      "\t* Mitigation: Regular review of project plan, flexible approach to adapt to changing circumstances.\n",
      "\n",
      "**Team Qualifications:**\n",
      "\n",
      "Our team consists of experienced professionals with expertise in [list specific areas of expertise]. We have a proven track record of delivering high-quality services and exceeding client expectations.\n",
      "\n",
      "**Conclusion:**\n",
      "\n",
      "We believe our team is well-equipped to provide exceptional consultancy services for [Project Name]. Our proposal offers a comprehensive approach to deliver on-time, within-budget, and exceeding client expectations. We look forward to the opportunity to work with your organization and contribute to its success.\n",
      "\n",
      "Please find below the suggested proposal structure:\n",
      "\n",
      "* Executive Summary\n",
      "* Project Overview\n",
      "* Project Objectives and Scope\n",
      "* Project Methodology\n",
      "* Project Timeline and Milestones\n",
      "* Project Budget\n",
      "* Risk Assessment\n",
      "* Team Qualifications\n",
      "\n",
      "If you would like me to revise or expand on any of these sections, please let me know!\n"
     ]
    }
   ],
   "source": [
    "print(response.json()['response'])"
   ]
  },
  {
   "cell_type": "code",
   "execution_count": null,
   "metadata": {},
   "outputs": [],
   "source": []
  }
 ],
 "metadata": {
  "kernelspec": {
   "display_name": "OT-Environment",
   "language": "python",
   "name": "python3"
  },
  "language_info": {
   "codemirror_mode": {
    "name": "ipython",
    "version": 3
   },
   "file_extension": ".py",
   "mimetype": "text/x-python",
   "name": "python",
   "nbconvert_exporter": "python",
   "pygments_lexer": "ipython3",
   "version": "3.11.4"
  }
 },
 "nbformat": 4,
 "nbformat_minor": 2
}
