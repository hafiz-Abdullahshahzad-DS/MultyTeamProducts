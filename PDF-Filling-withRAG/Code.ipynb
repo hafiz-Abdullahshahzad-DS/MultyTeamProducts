{
  "cells": [
    {
      "cell_type": "code",
      "execution_count": 231,
      "metadata": {
        "id": "JJvmX5jqKWV2"
      },
      "outputs": [],
      "source": [
        "pip install -q langchain-chroma langchain_community langchain_text_splitters langchain_groq langgraph pypdf PyPDF2 langchain_huggingface faiss-cpu langchain_google_genai"
      ]
    },
    {
      "cell_type": "code",
      "execution_count": 232,
      "metadata": {
        "id": "yXkoUxerKPq-"
      },
      "outputs": [],
      "source": [
        "from PyPDF2 import PdfReader\n",
        "from langchain.text_splitter import RecursiveCharacterTextSplitter, CharacterTextSplitter\n",
        "from langchain_huggingface import HuggingFaceEmbeddings\n",
        "from langchain.prompts import PromptTemplate\n",
        "from langchain_community.llms import HuggingFaceEndpoint\n",
        "from langchain_core.runnables import RunnablePassthrough\n",
        "from langchain_core.output_parsers import StrOutputParser\n",
        "from langchain_community.vectorstores.faiss import FAISS\n",
        "from langchain.docstore.document import Document"
      ]
    },
    {
      "cell_type": "code",
      "execution_count": 1,
      "metadata": {
        "id": "z42187FvLw-Y"
      },
      "outputs": [
        {
          "name": "stdout",
          "output_type": "stream",
          "text": [
            "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\n"
          ]
        }
      ],
      "source": [
        "from dotenv import load_dotenv\n",
        "load_dotenv()\n",
        "\n",
        "import os\n",
        "print(os.environ['LANGCHAIN_API_KEY'])\n"
      ]
    },
    {
      "cell_type": "code",
      "execution_count": null,
      "metadata": {},
      "outputs": [],
      "source": []
    },
    {
      "cell_type": "code",
      "execution_count": 234,
      "metadata": {
        "id": "pbSg1iVUw630"
      },
      "outputs": [],
      "source": [
        "from langchain_google_genai import GoogleGenerativeAI\n",
        "llm = GoogleGenerativeAI(model=\"gemini-1.0-pro-latest\", google_api_key=userdata.get('GOOGLE_API_KEY'),temperature=0.2)\n"
      ]
    },
    {
      "cell_type": "code",
      "execution_count": 235,
      "metadata": {
        "id": "U8UQtIFXLq_C"
      },
      "outputs": [],
      "source": [
        "# import os\n",
        "\n",
        "# os.environ[\"GROQ_API_KEY\"] = \"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\"\n",
        "\n",
        "# from langchain_groq import ChatGroq\n",
        "\n",
        "# llm = ChatGroq(model=\"llama3-8b-8192\",temperature=0)"
      ]
    },
    {
      "cell_type": "code",
      "execution_count": 236,
      "metadata": {
        "id": "C2fgN1s1L4WF"
      },
      "outputs": [],
      "source": [
        "chara_text_splitter = CharacterTextSplitter()\n",
        "recur_text_splitter = RecursiveCharacterTextSplitter(\n",
        "    chunk_size=1000, chunk_overlap=200\n",
        ")\n"
      ]
    },
    {
      "cell_type": "code",
      "execution_count": 263,
      "metadata": {
        "id": "ssk_-LCcL99Y"
      },
      "outputs": [],
      "source": [
        "chara_text_splitter = CharacterTextSplitter()\n",
        "recur_text_splitter = RecursiveCharacterTextSplitter(\n",
        "    chunk_size=1000, chunk_overlap=200\n",
        ")\n",
        "\n",
        "\n",
        "def preprocessing_text(data):\n",
        "    texts = chara_text_splitter.split_text(data)\n",
        "    doc_data = [Document(page_content=t) for t in texts]\n",
        "    text_splits = recur_text_splitter.split_documents(doc_data)\n",
        "    return text_splits\n",
        "\n",
        "\n",
        "def create_retriever(text_splits):\n",
        "    embedding_model = HuggingFaceEmbeddings(model_name=\"sentence-transformers/all-mpnet-base-v2\")\n",
        "    vector_db = FAISS.from_documents(text_splits, embedding_model)\n",
        "    retriever = vector_db.as_retriever(search_type=\"mmr\", search_kwargs={\"k\": 5})\n",
        "    return retriever"
      ]
    },
    {
      "cell_type": "code",
      "execution_count": 264,
      "metadata": {
        "id": "e9aGwThAMOya"
      },
      "outputs": [],
      "source": [
        "pdf_reader = PdfReader(\"/content/Tender Information for document filling.pdf\")\n",
        "text = \"\"\n",
        "for page in pdf_reader.pages:\n",
        "    text += page.extract_text()\n",
        "\n",
        "preprocessed_text = preprocessing_text(text)\n",
        "retriever = create_retriever(preprocessed_text)\n",
        "\n",
        "\n",
        "############\n",
        "# from langchain.document_loaders import PyPDFLoader\n",
        "# file_path = \"/content/Tender Information for document filling.pdf\"\n",
        "# loader = PyPDFLoader(file_path)\n",
        "# documents = loader.load()\n",
        "# retriever = create_retriever(documents)"
      ]
    },
    {
      "cell_type": "code",
      "execution_count": 239,
      "metadata": {
        "id": "MF3lgZCwDIxP"
      },
      "outputs": [],
      "source": [
        "from langchain_google_genai import GoogleGenerativeAI\n",
        "llm = GoogleGenerativeAI(model=\"gemini-1.0-pro-latest\", google_api_key=userdata.get('GOOGLE_API_KEY'),temperature=0.2)\n"
      ]
    },
    {
      "cell_type": "code",
      "execution_count": 278,
      "metadata": {
        "colab": {
          "base_uri": "https://localhost:8080/"
        },
        "id": "cZKOhG93RWz_",
        "outputId": "843cd8e4-ba61-4472-d392-7d180fe59954"
      },
      "outputs": [
        {
          "name": "stdout",
          "output_type": "stream",
          "text": [
            " Handover and commissioning  \n",
            "4. Tender Packages  \n",
            "Bidders are invited to submit proposals for one of the following packages:  \n",
            "4.1 Package A: Full Development  \n",
            "This package includes the complete scope of work as outlined in Section 3, covering all aspects \n",
            "of the project from site preparation to final handover.  \n",
            "Key Components:  \n",
            " Complete construction of all structures  \n",
            " Full interior fit -out \n",
            " Comprehensive landscaping  \n",
            " Installation of all utilities and systems  \n",
            " Project management for the entire development  \n",
            "Estimated Timeline: 36 months  \n",
            "4.2 Package B: Core and Shell Development  \n",
            "This package focuses on the development of the main structure and essential systems, leaving \n",
            "interior fit -out and some finishing works for  future completion.  \n",
            "Key Components:  \n",
            " Site preparation and earthwork  \n",
            " Construction of the main structure(s)  \n",
            " Installation of core building systems (HVAC, electrical, plumbing)  \n",
            " Basic exterior finishing  \n",
            " Minimal landscaping  \n",
            "Estimated Timeline: 24 months  \n",
            "Selected Package (A or B): _________________  \n",
            "[... Previous sections 5 -8 remain unchanged ...]  \n",
            "9. Bidder Information Form  \n",
            "Please fill out the following information:  \n",
            "1. Company Name: OptimumTech Development  \n",
            "2. Registration Number: 123456789  \n",
            "3. Address: Riyadh, Saudi Arabia  \n",
            "4. Contact Person: Ahmed Al -Saud  \n",
            "5. Phone Number: +966 123456789  \n",
            "6. Email Address: ahmed.alsaud@optimumtech.sa\n"
          ]
        }
      ],
      "source": [
        "from langchain_core.prompts import ChatPromptTemplate\n",
        "# from langchain_core.prompts import PromptTemplate\n",
        "\n",
        "# template = \"\"\"\n",
        "# you are specialized AI assistant that fill the form based on information provided\n",
        "# to you.The information is regarding a tender information below:\n",
        "# {context}\n",
        "\n",
        "# Given input is of type form where fields need to be filled\n",
        "# {input}\n",
        "\n",
        "# the goal is to create a filled version of the input and return in the same format\n",
        "\n",
        "# * just output the filled information in the input format\n",
        "\n",
        "# example input/output\n",
        "\n",
        "# input:\n",
        "# Company Name: __________________________________________2. Company Address: ________________________________________\n",
        "\n",
        "# output:\n",
        "# Company Name:  ford ompany 2. Company Address: New york USA\n",
        "# \"\"\"\n",
        "\n",
        "from langchain.prompts import PromptTemplate\n",
        "template1 = \"\"\"\n",
        "Fill in the blanks of the following form based on the provided context.\n",
        "\n",
        "**Context:**\n",
        "{context}\n",
        "\n",
        "**Form:**\n",
        "{input}\n",
        "\n",
        "* make sure the format of the form kept unchanged like headings, numberings\n",
        "* Form should be complete in length in the output as provided\n",
        "\"\"\"\n",
        "# template = \"\"\"\n",
        "# You are required to fill in the blanks in the form below by only using the provided context.\n",
        "\n",
        "# **Context:**\n",
        "# {context}\n",
        "\n",
        "# **Form:**\n",
        "# {input}\n",
        "\n",
        "# ***** if no fields(____) found in the **Form** output will be the provided **Form** only ****\n",
        "\n",
        "# Instructions:\n",
        "# 1. Complete **all** sections of the form based on the context provided.\n",
        "# 2. Maintain the original structure, headings, and numbering exactly as they are presented in the form.\n",
        "# \"\"\"\n",
        "prompt1 = PromptTemplate.from_template(template1)\n",
        "template2 = \"\"\"\n",
        "Fill in the blanks of the following form based on the provided context.\n",
        "\n",
        "**Context:**\n",
        "{context}\n",
        "\n",
        "**Form:**\n",
        "{input}\n",
        "\n",
        "***** if no fields(____) found in the **Form** output will be the provided **Form** only ****\n",
        "\"\"\"\n",
        "prompt2 = PromptTemplate.from_template(template2)\n",
        "def format_docs(docs):\n",
        "    return \"\\n\\n\".join(doc.page_content for doc in docs)\n",
        "\n",
        "\n",
        "# prompt = select_prompt(input)\n",
        "rag_chain = (\n",
        "  {\"context\": retriever | format_docs, \"input\": RunnablePassthrough()}\n",
        "  | prompt1\n",
        "  | llm\n",
        "  # | StrOutputParser()\n",
        ")\n",
        "print(rag_chain.invoke(docts[1].page_content))"
      ]
    },
    {
      "cell_type": "code",
      "execution_count": 243,
      "metadata": {
        "colab": {
          "base_uri": "https://localhost:8080/"
        },
        "id": "Fm7X4tI3N-Jd",
        "outputId": "1d7ee295-9ce7-4a6c-cebb-31ac867698a2"
      },
      "outputs": [
        {
          "name": "stdout",
          "output_type": "stream",
          "text": [
            " \n",
            "By submitting this form, I certify that the information provid ed is true and accurate to the best of \n",
            "my knowledge.  \n",
            "Signature: ___________________________ Date: _______________  \n",
            "Printed Name: ________________________ Title: _______________  \n",
            "5. Submission Requirements  \n",
            "Bidders must submit the following documents:  \n",
            "1. Company Profile  \n",
            "o Legal structure and registration details  \n",
            "o Financial statements for the past 3 years  \n",
            "o Relevant experience and completed projects  \n",
            "2. Technical Proposal  \n",
            "o Detailed methodology and approach  \n",
            "o Work breakdown structure  \n",
            "o Project timeline and milestones  \n",
            "o Quality assurance plan  \n",
            "o Health and safety plan  \n",
            "3. Financial Prop osal  \n",
            "o Detailed cost breakdown  \n",
            "o Payment schedule  \n",
            "o Financial assumptions and exclusions  \n",
            "4. Resource Plan  \n",
            "o Key personnel and their qualifications  \n",
            "o Subcontractor information (if applicable)  \n",
            "o Equipment and machinery to be used  \n",
            "5. Certifications and Compliance  \n",
            "o Relevant i ndustry certifications  \n",
            "o Compliance with local regulations and standards  \n",
            "6. Bid Security  \n",
            "o A bid bond or bank guarantee of 5% of the total bid amount  \n",
            "All submissions must be in English and provided in both hard copy (3 sets) and digital format \n",
            "(USB drive or secure file transfer).  \n",
            "6. Evaluation Criteria  \n",
            "Proposals will be evaluated based on the following criteria:  \n",
            "1. Technical Capability (40%)  \n"
          ]
        }
      ],
      "source": [
        "\n",
        "print(docts[3].page_content)"
      ]
    },
    {
      "cell_type": "code",
      "execution_count": 132,
      "metadata": {
        "colab": {
          "base_uri": "https://localhost:8080/"
        },
        "id": "jddNzRh8TKT5",
        "outputId": "52a833e3-0edd-4a39-a92f-df148facd08a"
      },
      "outputs": [
        {
          "name": "stdout",
          "output_type": "stream",
          "text": [
            "1. Company Name: OptimumTech Development\n",
            "2. Company Address: Riyadh, Saudi Arabia\n"
          ]
        }
      ],
      "source": [
        "print(rag_chain.invoke(\"1. Company Name: __________________________________________2. Company Address: ________________________________________\"))"
      ]
    },
    {
      "cell_type": "code",
      "execution_count": 110,
      "metadata": {
        "id": "XMUmAE_eWZmF"
      },
      "outputs": [],
      "source": [
        "from langchain.document_loaders import PyPDFLoader\n",
        "file_path = \"/content/Real Estate Development Tender Document.pdf\"\n",
        "loader = PyPDFLoader(file_path)\n",
        "docts = loader.load()"
      ]
    },
    {
      "cell_type": "code",
      "execution_count": 134,
      "metadata": {
        "colab": {
          "base_uri": "https://localhost:8080/"
        },
        "id": "SapYKDh8WyAn",
        "outputId": "20a34de7-b5c4-4b08-ca6b-4d872c51d2ec"
      },
      "outputs": [
        {
          "name": "stdout",
          "output_type": "stream",
          "text": [
            "Real Estate Development Tender Document  \n",
            "Table of Contents  \n",
            "1. Introdu ction  \n",
            "2. Project Overview  \n",
            "3. Scope of Work  \n",
            "4. Tender Packages 4.1 Package A 4.2 Package B        \n",
            "5. Submission Requirements  \n",
            "6. Evaluation Criteria  \n",
            "7. Terms and Conditions  \n",
            "8. Contact Information  \n",
            "1. Introduction  \n",
            "Greenfield Developments LLC is seeking proposals from qualified contractor s for the \n",
            "development of a mixed -use complex located at 123 Prosperity Avenue, Metropolis, FL 33101. \n",
            "This tender document outlines the project requirements, scope of work, and submission \n",
            "guidelines for interested parties.  \n",
            "2. Project Overview  \n",
            "Project Name: Metropolis Central Location: 123 Prosperity Avenue, Metropolis, FL 33101 Total \n",
            "Area: 50,000 square meters Proposed Development: Mixed -use complex with residential \n",
            "apartments, office spaces, and retail outlets  \n",
            "The project aims to create a sustainable, moder n urban living and working environment that \n",
            "enhances the cityscape of Metropolis while providing high -quality residential and commercial \n",
            "spaces.  \n",
            "3. Scope of Work  \n",
            "The successful bidder will be responsible for the following:  \n",
            " Site preparation and earthwork  \n",
            " Construction of a 25 -story main building and two 10 -story auxiliary buildings  \n",
            " Installation of utilities (water, electricity, gas, telecommunications)  \n",
            " Interior finishing and fit -out \n",
            " Landscaping and exterior works, including a central plaza and green spaces  \n",
            " Compliance with all local building codes and regulations  \n",
            " Project management and coordination with relevant authorities  \n",
            " Quality control and assurance  \n",
            " Health and safety management  \n"
          ]
        }
      ],
      "source": [
        "print(docts[0].page_content)"
      ]
    },
    {
      "cell_type": "code",
      "execution_count": 35,
      "metadata": {
        "id": "mPQWHqurYsaw"
      },
      "outputs": [],
      "source": [
        "from PyPDF2\n"
      ]
    },
    {
      "cell_type": "code",
      "execution_count": null,
      "metadata": {
        "id": "rxQUYi4tAJVY"
      },
      "outputs": [],
      "source": []
    },
    {
      "cell_type": "code",
      "execution_count": 144,
      "metadata": {
        "colab": {
          "base_uri": "https://localhost:8080/"
        },
        "id": "0-VTcmzHXDFD",
        "outputId": "b3d49980-e3d0-4e6a-e1da-9564220de57c"
      },
      "outputs": [
        {
          "name": "stdout",
          "output_type": "stream",
          "text": [
            "2. Company Address: Riyadh, Saudi Arabia  \n",
            "3. Primary Contact Person: Name: Ahmed Al -Saud  Title: CEO  Phone: +966 123456789  Email: ahmed.alsaud@optimumtech.sa  \n",
            "4. Years of Experience in Real Estate Development: 15  \n",
            "5. Number of Similar Projects Completed: 10  \n",
            "6. Annual Turnover (Last 3 Years): Year 1: $100 million  Year 2: $120 million  Year 3: $150 million  \n",
            "7. Proposed Project Timeline: 24  months  \n",
            "8. Estimated Total Project Cost: $200 million  \n",
            "9. Key Subcontractors (if any): a. \n",
            "______________________________________________________ b. \n",
            "______________________________________________________ c. \n",
            "______________________________________________________  \n",
            "10. Brief Project Approach (max 500 words):  \n",
            " \n",
            " \n",
            " \n",
            " \n",
            " \n",
            "11. Certifications and Accreditations:  \n",
            " \n",
            " \n",
            "12. References (provide at least two): a. Company: \n",
            "___________________ _________________________ Contact Person: \n",
            "_______________________________________ Phone/Email: \n",
            "_________________________________________ b. Company: \n",
            "____________________________________________ Contact Person: \n",
            "_______________________________________ Phone/ Email: \n",
            "_________________________________________  \n",
            "13. Additional Comments or Information:  \n",
            " \n",
            "\n"
          ]
        }
      ],
      "source": [
        "print(rag_chain.invoke(docts[2].page_content))"
      ]
    },
    {
      "cell_type": "code",
      "execution_count": 269,
      "metadata": {
        "id": "-GHOokpetKYU"
      },
      "outputs": [],
      "source": [
        "output_text = \"\"\n",
        "filledpages = []\n",
        "\n",
        "def select_prompt(input):\n",
        "  if '____' in input:\n",
        "    return prompt1\n",
        "  else:\n",
        "    return prompt2\n",
        "\n",
        "for document in docts:\n",
        "  prompt = select_prompt(document.page_content)\n",
        "  rag_chain = (\n",
        "    {\"context\": retriever | format_docs, \"input\": RunnablePassthrough()}\n",
        "    | prompt\n",
        "    | llm\n",
        "    # | StrOutputParser()\n",
        "  )\n",
        "  out = rag_chain.invoke(document.page_content)\n",
        "  # if len(out) < len(document.page_content)/2:\n",
        "  #   print(\"output waay less than input Retaining input..\")\n",
        "  #   filledpages.append(Document(page_content=document.page_content ))\n",
        "  #   output_text +=document.page_content\n",
        "  # else:\n",
        "  filledpages.append(Document(page_content= out))\n",
        "  output_text +=out\n"
      ]
    },
    {
      "cell_type": "code",
      "execution_count": 260,
      "metadata": {
        "colab": {
          "base_uri": "https://localhost:8080/"
        },
        "id": "F72rceCE-bqY",
        "outputId": "e08d03da-92e8-4811-ca24-c119ad90573c"
      },
      "outputs": [
        {
          "name": "stdout",
          "output_type": "stream",
          "text": [
            " \n",
            "By submitting this form, I certify that the information provid ed is true and accurate to the best of \n",
            "my knowledge.  \n",
            "Signature: ___________________________ Date: _______________  \n",
            "Printed Name: ________________________ Title: _______________  \n",
            "5. Submission Requirements  \n",
            "Bidders must submit the following documents:  \n",
            "1. Company Profile  \n",
            "o Legal structure and registration details  \n",
            "o Financial statements for the past 3 years  \n",
            "o Relevant experience and completed projects  \n",
            "2. Technical Proposal  \n",
            "o Detailed methodology and approach  \n",
            "o Work breakdown structure  \n",
            "o Project timeline and milestones  \n",
            "o Quality assurance plan  \n",
            "o Health and safety plan  \n",
            "3. Financial Prop osal  \n",
            "o Detailed cost breakdown  \n",
            "o Payment schedule  \n",
            "o Financial assumptions and exclusions  \n",
            "4. Resource Plan  \n",
            "o Key personnel and their qualifications  \n",
            "o Subcontractor information (if applicable)  \n",
            "o Equipment and machinery to be used  \n",
            "5. Certifications and Compliance  \n",
            "o Relevant i ndustry certifications  \n",
            "o Compliance with local regulations and standards  \n",
            "6. Bid Security  \n",
            "o A bid bond or bank guarantee of 5% of the total bid amount  \n",
            "All submissions must be in English and provided in both hard copy (3 sets) and digital format \n",
            "(USB drive or secure file transfer).  \n",
            "6. Evaluation Criteria  \n",
            "Proposals will be evaluated based on the following criteria:  \n",
            "1. Technical Capability (40%)  \n"
          ]
        }
      ],
      "source": [
        "print(filledpages[3].page_content)"
      ]
    },
    {
      "cell_type": "code",
      "execution_count": 270,
      "metadata": {
        "colab": {
          "base_uri": "https://localhost:8080/"
        },
        "id": "ta6wrGSsWQEM",
        "outputId": "9157ed1c-370f-445d-9036-0a737d2320a3"
      },
      "outputs": [
        {
          "name": "stdout",
          "output_type": "stream",
          "text": [
            "Real Estate Development Tender Document  \n",
            "Table of Contents  \n",
            "1. Introdu ction  \n",
            "2. Project Overview  \n",
            "3. Scope of Work  \n",
            "4. Tender Packages 4.1 Package A 4.2 Package B        \n",
            "5. Submission Requirements  \n",
            "6. Evaluation Criteria  \n",
            "7. Terms and Conditions  \n",
            "8. Contact Information  \n",
            "1. Introduction  \n",
            "Greenfield Developments LLC is seeking proposals from qualified contractor s for the \n",
            "development of a mixed -use complex located at 123 Prosperity Avenue, Metropolis, FL 33101. \n",
            "This tender document outlines the project requirements, scope of work, and submission \n",
            "guidelines for interested parties.  \n",
            "2. Project Overview  \n",
            "Project Name: Metropolis Central Location: 123 Prosperity Avenue, Metropolis, FL 33101 Total \n",
            "Area: 50,000 square meters Proposed Development: Mixed -use complex with residential \n",
            "apartments, office spaces, and retail outlets  \n",
            "The project aims to create a sustainable, moder n urban living and working environment that \n",
            "enhances the cityscape of Metropolis while providing high -quality residential and commercial \n",
            "spaces.  \n",
            "3. Scope of Work  \n",
            "The successful bidder will be responsible for the following:  \n",
            " Site preparation and earthwork  \n",
            " Construction of a 25 -story main building and two 10 -story auxiliary buildings  \n",
            " Installation of utilities (water, electricity, gas, telecommunications)  \n",
            " Interior finishing and fit -out \n",
            " Landscaping and exterior works, including a central plaza and green spaces  \n",
            " Compliance with all local building codes and regulations  \n",
            " Project management and coordination with relevant authorities  \n",
            " Quality control and assurance  \n",
            " Health and safety management Handover and commissioning  \n",
            "4. Tender Packages  \n",
            "Bidders are invited to submit proposals for one of the following packages:  \n",
            "4.1 Package A: Full Development  \n",
            "This package includes the complete scope of work as outlined in Section 3, covering all aspects \n",
            "of the project from site preparation to final handover.  \n",
            "Key Components:  \n",
            " Complete construction of all structures  \n",
            " Full interior fit -out \n",
            " Comprehensive landscaping  \n",
            " Installation of all utilities and systems  \n",
            " Project management for the entire development  \n",
            "Estimated Timeline: 36 months  \n",
            "4.2 Package B: Core and Shell Development  \n",
            "This package focuses on the development of the main structure and essential systems, leaving \n",
            "interior fit -out and some finishing works for  future completion.  \n",
            "Key Components:  \n",
            " Site preparation and earthwork  \n",
            " Construction of the main structure(s)  \n",
            " Installation of core building systems (HVAC, electrical, plumbing)  \n",
            " Basic exterior finishing  \n",
            " Minimal landscaping  \n",
            "Estimated Timeline: 24 months  \n",
            "Selected Package (A or B): _________________  \n",
            "[... Previous sections 5 -8 remain unchanged ...]  \n",
            "9. Bidder Information Form  \n",
            "Please fill out the following information:  \n",
            "1. Company Name: OptimumTech Development  \n",
            "2. Registration Number: 123456789  \n",
            "3. Address: Riyadh, Saudi Arabia  \n",
            "4. Contact Person: Ahmed Al -Saud  \n",
            "5. Phone Number: +966 123456789  \n",
            "6. Email Address: ahmed.alsaud@optimumtech.sa2. Company Address: Riyadh, Saudi Arabia  \n",
            "3. Primary Contact Person: Name: Ahmed Al -Saud Title: CEO Phone: +966 123456789 Email: ahmed.alsaud@optimumtech.sa  \n",
            "4. Years of Experience in Real Estate Development: 15  \n",
            "5. Number of Similar Projects Completed: 10  \n",
            "6. Annual Turnover (Last 3 Years): Year 1: $200 million Year 2: $250 million Year 3: $300 million  \n",
            "7. Proposed Project Timeline: 24 months  \n",
            "8. Estimated Total Project Cost: $200 million  \n",
            "9. Key Subcontractors (if any): a. Al -Fahad Construction b. Al -Nasser Engineering c. Al -Omar Architecture  \n",
            "10. Brief Project Approach (max 500 words):  \n",
            "Our approach to the project is rooted in comprehensive planning and quality execution. We employ advanced construction techniques and sustainable practices. We will work closely with the client to ensure that the project meets their specific requirements and expectations.  \n",
            " \n",
            " \n",
            " \n",
            " \n",
            " \n",
            "11. Certifications and Accreditations:  \n",
            "ISO 9001:2015 LEED Certification Saudi Contractors Authority Membership  \n",
            " \n",
            " \n",
            "12. References (provide at least two): a. Company: Riyadh Residential Complex Contact Person: Mr. Abdullah Al -Abdullah Phone/Email: +966 123456789 / abdullah.al-abdullah@riyadhres.sa b. Company: Jeddah Commercial Tower Contact Person: Mr. Khalid Al -Khalid Phone/ Email: +966 123456789 / khalid.al-khalid@jeddahcom.sa  \n",
            "13. Additional Comments or Information:  \n",
            "We are confident that we have the experience and expertise to successfully complete this project. We look forward to working with you and delivering a state -of-the-art residential complex that meets the highest standards.By submitting this form, I certify that the information provided is true and accurate to the best of my knowledge.\n",
            "\n",
            "Signature: ___________________________ Date: _______________\n",
            "\n",
            "Printed Name: ________________________ Title: _______________\n",
            "\n",
            "5. Submission Requirements\n",
            "\n",
            "Bidders must submit the following documents:\n",
            "\n",
            "1. Company Profile\n",
            "o Legal structure and registration details\n",
            "o Financial statements for the past 3 years\n",
            "o Relevant experience and completed projects\n",
            "2. Technical Proposal\n",
            "o Detailed methodology and approach\n",
            "o Work breakdown structure\n",
            "o Project timeline and milestones\n",
            "o Quality assurance plan\n",
            "o Health and safety plan\n",
            "3. Financial Proposal\n",
            "o Detailed cost breakdown\n",
            "o Payment schedule\n",
            "o Financial assumptions and exclusions\n",
            "4. Resource Plan\n",
            "o Key personnel and their qualifications\n",
            "o Subcontractor information (if applicable)\n",
            "o Equipment and machinery to be used\n",
            "5. Certifications and Compliance\n",
            "o Relevant industry certifications\n",
            "o Compliance with local regulations and standards\n",
            "6. Bid Security\n",
            "o A bid bond or bank guarantee of 5% of the total bid amount\n",
            "\n",
            "All submissions must be in English and provided in both hard copy (3 sets) and digital format (USB drive or secure file transfer).\n",
            "\n",
            "6. Evaluation Criteria\n",
            "\n",
            "Proposals will be evaluated based on the following criteria:\n",
            "\n",
            "1. Technical Capability (40%)o Methodology and approach\n",
            "o Project timeline and feasibility\n",
            "o Quality of proposed solutions\n",
            "2. Financial Proposal (30%)\n",
            "o Total cost\n",
            "o Cost breakdown and transparency\n",
            "o Value for money\n",
            "3. Experience and Track Record (20%)\n",
            "o Relevant project experience\n",
            "o Performance on similar projects\n",
            "o Client references\n",
            "4. Resource Capability (10%)\n",
            "o Qualifications of key personnel\n",
            "o Availability of necessary equipment and resources\n",
            "7. Terms and Conditions\n",
            "1. Bid Validity: All bids must remain valid for a period of 120 days from the submission deadline.\n",
            "2. Contract Award: Greenfield Developments LLC reserves the right to award the contract to the bidder whose proposal is deemed most advantageous to the project.\n",
            "3. Modifications: Any modifications to the tender document will be communicated to all bidders in writing.\n",
            "4. Site Visit: A mandatory site visit will be conducted on September 15, 2024, at 10:00 AM EST. Attendance is required for all potential bidders.\n",
            "5. Confidentiality: All information provided in this tender document is confidential and must not be shared with third parties without written consent from Greenfield Developments LLC.\n",
            "6. Bid Rejection: Greenfield Developments LLC reserves the right to reject any or all bids without providing justification.\n",
            "7. Conflict of Interest: Bidders must disclose any potential conflicts of interest.\n",
            "8. Compliance: The successful bidder must comply with all local laws, regulations, and building codes.\n",
            "9. Insurance: The contractor will be required to maintain appropriate insurance coverage throughout the project duration.\n",
            "10. Dispute Resolution: Any disputes will be resolved through arbitration in accordance with the American Arbitration Association rules.\n",
            "8. Contact Information\n",
            "For inquiries related to this tender, please contact:\n",
            "Sarah Johnson\n",
            "Procurement Manager\n",
            "Email: sarah.johnson@greenfielddev.com\n",
            "Phone: +1 (305) 555-0123Address: Greenfield Developments LLC 789 Corporate Plaza, Suite 500 Metropolis, FL 33101  \n",
            "All questions must be submitted in writing no later than 14 days before the submission deadline. \n",
            "Responses will be shared with all bidders.  \n",
            "Submission Deadline: October 31, 2024, 5:00 PM EST Submission Address: Greenfield \n",
            "Developments LLC, 789 Corporate Plaza, Suite 500, Metropolis, FL 33101  \n",
            "We look forward to receiving your propo sals and thank you for your interest in this project.\n"
          ]
        }
      ],
      "source": [
        "print(output_text)"
      ]
    },
    {
      "cell_type": "code",
      "execution_count": 225,
      "metadata": {
        "colab": {
          "base_uri": "https://localhost:8080/"
        },
        "id": "QvO5NPYay1Ry",
        "outputId": "4399ac00-f20b-47f5-e6aa-474a6de678a1"
      },
      "outputs": [
        {
          "name": "stdout",
          "output_type": "stream",
          "text": [
            "Real Estate Development Tender Document  \n",
            "Table of Contents  \n",
            "1. Introdu ction  \n",
            "2. Project Overview  \n",
            "3. Scope of Work  \n",
            "4. Tender Packages 4.1 Package A 4.2 Package B        \n",
            "5. Submission Requirements  \n",
            "6. Evaluation Criteria  \n",
            "7. Terms and Conditions  \n",
            "8. Contact Information  \n",
            "1. Introduction  \n",
            "Greenfield Developments LLC is seeking proposals from qualified contractor s for the \n",
            "development of a mixed -use complex located at 123 Prosperity Avenue, Metropolis, FL 33101. \n",
            "This tender document outlines the project requirements, scope of work, and submission \n",
            "guidelines for interested parties.  \n",
            "2. Project Overview  \n",
            "Project Name: Metropolis Central Location: 123 Prosperity Avenue, Metropolis, FL 33101 Total \n",
            "Area: 50,000 square meters Proposed Development: Mixed -use complex with residential \n",
            "apartments, office spaces, and retail outlets  \n",
            "The project aims to create a sustainable, moder n urban living and working environment that \n",
            "enhances the cityscape of Metropolis while providing high -quality residential and commercial \n",
            "spaces.  \n",
            "3. Scope of Work  \n",
            "The successful bidder will be responsible for the following:  \n",
            " Site preparation and earthwork  \n",
            " Construction of a 25 -story main building and two 10 -story auxiliary buildings  \n",
            " Installation of utilities (water, electricity, gas, telecommunications)  \n",
            " Interior finishing and fit -out \n",
            " Landscaping and exterior works, including a central plaza and green spaces  \n",
            " Compliance with all local building codes and regulations  \n",
            " Project management and coordination with relevant authorities  \n",
            " Quality control and assurance  \n",
            " Health and safety management Handover and commissioning  \n",
            "4. Tender Packages  \n",
            "Bidders are invited to submit proposals for one of the following packages:  \n",
            "4.1 Package A: Full Development  \n",
            "This package includes the complete scope of work as outlined in Section 3, covering all aspects \n",
            "of the project from site preparation to final handover.  \n",
            "Key Components:  \n",
            " Complete construction of all structures  \n",
            " Full interior fit -out \n",
            " Comprehensive landscaping  \n",
            " Installation of all utilities and systems  \n",
            " Project management for the entire development  \n",
            "Estimated Timeline: 36 months  \n",
            "4.2 Package B: Core and Shell Development  \n",
            "This package focuses on the development of the main structure and essential systems, leaving \n",
            "interior fit -out and some finishing works for  future completion.  \n",
            "Key Components:  \n",
            " Site preparation and earthwork  \n",
            " Construction of the main structure(s)  \n",
            " Installation of core building systems (HVAC, electrical, plumbing)  \n",
            " Basic exterior finishing  \n",
            " Minimal landscaping  \n",
            "Estimated Timeline: 24 months  \n",
            "Selected Package (A or B): _________________  \n",
            "[... Previous sections 5 -8 remain unchanged ...]  \n",
            "9. Bidder Information Form  \n",
            "Please fill out the following information:  \n",
            "1. Company Name: OptimumTech Development2. Company Address: Riyadh, Saudi Arabia  \n",
            "3. Primary Contact Person: Name: Ahmed Al -Saud  \n",
            "Title: CEO  \n",
            "Phone: +966 123456789  \n",
            "Email: ahmed.alsaud@optimumtech.sa  \n",
            "4. Years of Experience in Real Estate Development: 15  \n",
            "5. Number of Similar Projects Completed: 10  \n",
            "6. Annual Turnover (Last 3 Years): Year 1: $100 million  \n",
            "Year 2: $120 million  \n",
            "Year 3: $150 million  \n",
            "7. Proposed Project Timeline: 24 months  \n",
            "8. Estimated Total Project Cost: $200 million  \n",
            "9. Key Subcontractors (if any): a. ABC Construction  \n",
            "b. XYZ Engineering  \n",
            "c. PQR Interiors  \n",
            "10. Brief Project Approach (max 500 words):  \n",
            "Our approach to the project is rooted in comprehensive planning and quality execution. We will employ advanced construction techniques and sustainable practices to deliver a state-of-the-art residential complex that meets the highest standards. Our team of experienced professionals will work closely with the client to ensure that the project is completed on time, within budget, and to the highest quality standards.  \n",
            " \n",
            " \n",
            " \n",
            " \n",
            " \n",
            "11. Certifications and Accreditations:  \n",
            "- ISO 9001:2015  \n",
            "- OHSAS 18001:2007  \n",
            "- LEED Gold Certification  \n",
            "12. References (provide at least two): a. Company: ABC Real Estate  \n",
            "Contact Person: John Smith  \n",
            "Phone/Email: +966 123456789 / john.smith@abc.com  \n",
            "b. Company: XYZ Construction  \n",
            "Contact Person: Jane Doe  \n",
            "Phone/ Email: +966 987654321 / jane.doe@xyz.com  \n",
            "13. Additional Comments or Information:  \n",
            "We are confident that our team has the experience and expertise to successfully complete this project. We look forward to the opportunity to work with you on this exciting project.By submitting this form, I certify that the information provided is true and accurate to the best of my knowledge.\n",
            "\n",
            "Signature: ___________________________ Date: _______________\n",
            "\n",
            "Printed Name: ________________________ Title: _______________o Methodology and approach  \n",
            "o Project timeline and feasibility  \n",
            "o Quality of proposed solutions  \n",
            "2. Financial Proposal (30%)  \n",
            "o Total cost  \n",
            "o Cost breakdown and transparency  \n",
            "o Value for money  \n",
            "3. Experience and Track Record (20%)  \n",
            "o Relevant project experience  \n",
            "o Performance on similar projects  \n",
            "o Client references  \n",
            "4. Resource Capability (10%)  \n",
            "o Qualifications of key personnel  \n",
            "o Availability of necessary equipment and resources  \n",
            "7. Terms and Conditions  \n",
            "1. Bid Validity: All bids must remain valid for a period of 120 days from the submission \n",
            "deadline.  \n",
            "2. Contract Award: Greenfield Developments LLC reserves the right to award the contract \n",
            "to the bidder whose proposal is deemed most advantageous to the project.  \n",
            "3. Modifications: Any modifications to the tender document will be communicated to all \n",
            "bidders in writing. \n",
            "4. Site Visit: A mandatory site visit will be conducted on September 15, 2024, at 10:00 AM \n",
            "EST. Attendance is required for all potential bidders.  \n",
            "5. Confidentiality: All information provided in this tender document is confidential and \n",
            "must not be shared with third parties without written consent from Greenfield \n",
            "Developments LLC.  \n",
            "6. Bid Rejection: Greenfield Developments LLC reserves the right to reject any or all bids \n",
            "without providing justification.  \n",
            "7. Conflict of Interest: Bidders must disclose any potential conflicts of interest.  \n",
            "8. Compliance: The successful bidder must comply with all local laws, regulations, and \n",
            "building codes.  \n",
            "9. Insurance: The contractor will be required to maintain appropriate insurance coverage \n",
            "throughout the project duration.  \n",
            "10. Dispute Resolution: Any disputes will be resolved through arbitration in accordance with \n",
            "the American Arbitration Association rules.  \n",
            "8. Contact Information  \n",
            "For inquiries related to this tender, please contact:  \n",
            "Sarah Johnson Procurement Manager Email: sarah.johnson@greenfielddev.com  Phone: +1 (305) \n",
            "555-0123Address: Greenfield Developments LLC 789 Corporate Plaza, Suite 500 Metropolis, FL 33101  \n",
            "All questions must be submitted in writing no later than 14 days before the submission deadline. \n",
            "Responses will be shared with all bidders.  \n",
            "Submission Deadline: October 31, 2024, 5:00 PM EST Submission Address: Greenfield \n",
            "Developments LLC, 789 Corporate Plaza, Suite 500, Metropolis, FL 33101  \n",
            "We look forward to receiving your propo sals and thank you for your interest in this project.\n"
          ]
        }
      ],
      "source": [
        "print(output_text)"
      ]
    },
    {
      "cell_type": "code",
      "execution_count": 26,
      "metadata": {
        "colab": {
          "base_uri": "https://localhost:8080/"
        },
        "id": "agrS_BNHW5N8",
        "outputId": "f880afe6-ab47-4bb4-808b-be2b6c173bb0"
      },
      "outputs": [
        {
          "name": "stdout",
          "output_type": "stream",
          "text": [
            "2. Company Address: ___________________________ _____________  \n",
            "3. Primary Contact Person: Name: \n",
            "_________________________________________________ Title: \n",
            "_________________________________________________ Phone: \n",
            "________________________________________________ Email: \n",
            "__________________________________________ ______  \n",
            "4. Years of Experience in Real Estate Development: _______________  \n",
            "5. Number of Similar Projects Completed: _______________________  \n",
            "6. Annual Turnover (Last 3 Years): Year 1: $_____________________ Year 2: \n",
            "$_____________________ Year 3: $____________________ _ \n",
            "7. Proposed Project Timeline: _________________________________ months  \n",
            "8. Estimated Total Project Cost: $_______________________________  \n",
            "9. Key Subcontractors (if any): a. \n",
            "______________________________________________________ b. \n",
            "______________________________________________________ c. \n",
            "______________________________________________________  \n",
            "10. Brief Project Approach (max 500 words):  \n",
            " \n",
            " \n",
            " \n",
            " \n",
            " \n",
            "11. Certifications and Accreditations:  \n",
            " \n",
            " \n",
            "12. References (provide at least two): a. Company: \n",
            "___________________ _________________________ Contact Person: \n",
            "_______________________________________ Phone/Email: \n",
            "_________________________________________ b. Company: \n",
            "____________________________________________ Contact Person: \n",
            "_______________________________________ Phone/ Email: \n",
            "_________________________________________  \n",
            "13. Additional Comments or Information:  \n",
            " \n",
            " \n"
          ]
        }
      ],
      "source": [
        "print(documents[2].page_content)"
      ]
    },
    {
      "cell_type": "code",
      "execution_count": 276,
      "metadata": {
        "id": "-m6CwQ2aN6U-"
      },
      "outputs": [],
      "source": [
        "# from PyPDF2 import PdfReader\n",
        "# reader = PdfReader(\"/content/Real Estate Development Tender Document.pdf\")\n"
      ]
    },
    {
      "cell_type": "code",
      "execution_count": 279,
      "metadata": {
        "id": "yYP6PwJoNhOS"
      },
      "outputs": [],
      "source": [
        "\n",
        "# Open a file in write mode ('w') and save the string\n",
        "with open('output.txt', 'w') as file:\n",
        "    file.write(output_text)\n",
        "\n"
      ]
    },
    {
      "cell_type": "code",
      "execution_count": 42,
      "metadata": {
        "colab": {
          "base_uri": "https://localhost:8080/"
        },
        "id": "nm5PDeAQQBvb",
        "outputId": "43336ce2-979c-4e01-ce0b-726541f4c6c4"
      },
      "outputs": [
        {
          "name": "stdout",
          "output_type": "stream",
          "text": [
            "{'agent': {'messages': [AIMessage(content='', additional_kwargs={'tool_calls': [{'id': 'call_x48m', 'function': {'arguments': '{\"config\":{\"run_name\":\"certification_and_accreditation\"}}', 'name': 'PDF_info_retriever'}, 'type': 'function'}]}, response_metadata={'token_usage': {'completion_tokens': 82, 'prompt_tokens': 1163, 'total_tokens': 1245, 'completion_time': 0.064195545, 'prompt_time': 0.286992673, 'queue_time': None, 'total_time': 0.351188218}, 'model_name': 'llama3-8b-8192', 'system_fingerprint': 'fp_af05557ca2', 'finish_reason': 'tool_calls', 'logprobs': None}, id='run-be31c12a-e771-4ca5-8ffd-6ecd5e9d59ac-0', tool_calls=[{'name': 'PDF_info_retriever', 'args': {'config': {'run_name': 'certification_and_accreditation'}}, 'id': 'call_x48m', 'type': 'tool_call'}], usage_metadata={'input_tokens': 1163, 'output_tokens': 82, 'total_tokens': 1245})]}}\n",
            "----\n",
            "{'tools': {'messages': [ToolMessage(content='Error: AttributeError(\"\\'dict\\' object has no attribute \\'replace\\'\")\\n Please fix your mistakes.', name='PDF_info_retriever', tool_call_id='call_x48m')]}}\n",
            "----\n",
            "{'agent': {'messages': [AIMessage(content='', additional_kwargs={'tool_calls': [{'id': 'call_pa35', 'function': {'arguments': '{\"config\":{\"run_name\":\"certification_and_accreditation\"}}', 'name': 'PDF_info_retriever'}, 'type': 'function'}]}, response_metadata={'token_usage': {'completion_tokens': 80, 'prompt_tokens': 1234, 'total_tokens': 1314, 'completion_time': 0.063459551, 'prompt_time': 0.330782808, 'queue_time': None, 'total_time': 0.394242359}, 'model_name': 'llama3-8b-8192', 'system_fingerprint': 'fp_179b0f92c9', 'finish_reason': 'tool_calls', 'logprobs': None}, id='run-fb8eaa87-0430-4142-ae1d-92c09c3b6372-0', tool_calls=[{'name': 'PDF_info_retriever', 'args': {'config': {'run_name': 'certification_and_accreditation'}}, 'id': 'call_pa35', 'type': 'tool_call'}], usage_metadata={'input_tokens': 1234, 'output_tokens': 80, 'total_tokens': 1314})]}}\n",
            "----\n",
            "{'tools': {'messages': [ToolMessage(content='Error: AttributeError(\"\\'dict\\' object has no attribute \\'replace\\'\")\\n Please fix your mistakes.', name='PDF_info_retriever', tool_call_id='call_pa35')]}}\n",
            "----\n",
            "{'agent': {'messages': [AIMessage(content='', additional_kwargs={'tool_calls': [{'id': 'call_9k50', 'function': {'arguments': '{\"config\":{\"run_name\":\"certification_and_accreditation\"}}', 'name': 'PDF_info_retriever'}, 'type': 'function'}]}, response_metadata={'token_usage': {'completion_tokens': 45, 'prompt_tokens': 1324, 'total_tokens': 1369, 'completion_time': 0.036079634, 'prompt_time': 0.270844443, 'queue_time': None, 'total_time': 0.306924077}, 'model_name': 'llama3-8b-8192', 'system_fingerprint': 'fp_6a6771ae9c', 'finish_reason': 'tool_calls', 'logprobs': None}, id='run-a84a92ff-aa15-4ca5-9e8d-78b6ffc08ad7-0', tool_calls=[{'name': 'PDF_info_retriever', 'args': {'config': {'run_name': 'certification_and_accreditation'}}, 'id': 'call_9k50', 'type': 'tool_call'}], usage_metadata={'input_tokens': 1324, 'output_tokens': 45, 'total_tokens': 1369})]}}\n",
            "----\n",
            "{'tools': {'messages': [ToolMessage(content='Error: AttributeError(\"\\'dict\\' object has no attribute \\'replace\\'\")\\n Please fix your mistakes.', name='PDF_info_retriever', tool_call_id='call_9k50')]}}\n",
            "----\n",
            "{'agent': {'messages': [AIMessage(content='', additional_kwargs={'tool_calls': [{'id': 'call_yx55', 'function': {'arguments': '{\"config\":{\"run_name\":\"certification_and_accreditation\"}}', 'name': 'PDF_info_retriever'}, 'type': 'function'}]}, response_metadata={'token_usage': {'completion_tokens': 45, 'prompt_tokens': 1439, 'total_tokens': 1484, 'completion_time': 0.035188619, 'prompt_time': 0.292390772, 'queue_time': None, 'total_time': 0.327579391}, 'model_name': 'llama3-8b-8192', 'system_fingerprint': 'fp_a97cfe35ae', 'finish_reason': 'tool_calls', 'logprobs': None}, id='run-691ed11a-a510-4f56-85d7-45bbae375216-0', tool_calls=[{'name': 'PDF_info_retriever', 'args': {'config': {'run_name': 'certification_and_accreditation'}}, 'id': 'call_yx55', 'type': 'tool_call'}], usage_metadata={'input_tokens': 1439, 'output_tokens': 45, 'total_tokens': 1484})]}}\n",
            "----\n",
            "{'tools': {'messages': [ToolMessage(content='Error: AttributeError(\"\\'dict\\' object has no attribute \\'replace\\'\")\\n Please fix your mistakes.', name='PDF_info_retriever', tool_call_id='call_yx55')]}}\n",
            "----\n",
            "{'agent': {'messages': [AIMessage(content='', additional_kwargs={'tool_calls': [{'id': 'call_cmjk', 'function': {'arguments': '{\"config\":{\"run_name\":\"certification_and_accreditation\"}}', 'name': 'PDF_info_retriever'}, 'type': 'function'}]}, response_metadata={'token_usage': {'completion_tokens': 45, 'prompt_tokens': 1510, 'total_tokens': 1555, 'completion_time': 0.035240484, 'prompt_time': 0.307684726, 'queue_time': None, 'total_time': 0.34292521000000004}, 'model_name': 'llama3-8b-8192', 'system_fingerprint': 'fp_179b0f92c9', 'finish_reason': 'tool_calls', 'logprobs': None}, id='run-8e51f563-6c1d-4159-9332-683793f2d9fa-0', tool_calls=[{'name': 'PDF_info_retriever', 'args': {'config': {'run_name': 'certification_and_accreditation'}}, 'id': 'call_cmjk', 'type': 'tool_call'}], usage_metadata={'input_tokens': 1510, 'output_tokens': 45, 'total_tokens': 1555})]}}\n",
            "----\n",
            "{'tools': {'messages': [ToolMessage(content='Error: AttributeError(\"\\'dict\\' object has no attribute \\'replace\\'\")\\n Please fix your mistakes.', name='PDF_info_retriever', tool_call_id='call_cmjk')]}}\n",
            "----\n",
            "{'agent': {'messages': [AIMessage(content='', additional_kwargs={'tool_calls': [{'id': 'call_wkvy', 'function': {'arguments': '{\"config\":{\"run_name\":\"certification_and_accreditation\"}}', 'name': 'PDF_info_retriever'}, 'type': 'function'}]}, response_metadata={'token_usage': {'completion_tokens': 45, 'prompt_tokens': 1600, 'total_tokens': 1645, 'completion_time': 0.035203284, 'prompt_time': 0.378708869, 'queue_time': None, 'total_time': 0.413912153}, 'model_name': 'llama3-8b-8192', 'system_fingerprint': 'fp_179b0f92c9', 'finish_reason': 'tool_calls', 'logprobs': None}, id='run-3de26646-0c52-4a16-9dca-bd16e43ca182-0', tool_calls=[{'name': 'PDF_info_retriever', 'args': {'config': {'run_name': 'certification_and_accreditation'}}, 'id': 'call_wkvy', 'type': 'tool_call'}], usage_metadata={'input_tokens': 1600, 'output_tokens': 45, 'total_tokens': 1645})]}}\n",
            "----\n",
            "{'tools': {'messages': [ToolMessage(content='Error: AttributeError(\"\\'dict\\' object has no attribute \\'replace\\'\")\\n Please fix your mistakes.', name='PDF_info_retriever', tool_call_id='call_wkvy')]}}\n",
            "----\n",
            "{'agent': {'messages': [AIMessage(content='Unfortunately, the error persists. It seems that there might be an issue with the tool call or the provided parameters. In this case, I will fallback to providing a text response.\\n\\nCertification and accreditation are processes that verify the quality, safety, and effectiveness of various products, services, or individuals. They are often required by law, industry standards, or regulatory bodies. Some examples of certifications and accreditations include ISO certifications, CE marks, and professional licenses.\\n\\nI hope this information is helpful. If you have any further questions, please feel free to ask!', response_metadata={'token_usage': {'completion_tokens': 114, 'prompt_tokens': 1692, 'total_tokens': 1806, 'completion_time': 0.089762057, 'prompt_time': 0.3538338, 'queue_time': None, 'total_time': 0.443595857}, 'model_name': 'llama3-8b-8192', 'system_fingerprint': 'fp_873a560973', 'finish_reason': 'stop', 'logprobs': None}, id='run-f0c97de8-0462-4fc2-8086-2c2052aba591-0', usage_metadata={'input_tokens': 1692, 'output_tokens': 114, 'total_tokens': 1806})]}}\n",
            "----\n"
          ]
        }
      ],
      "source": []
    },
    {
      "cell_type": "code",
      "execution_count": null,
      "metadata": {
        "id": "GMUbWauOSkBN"
      },
      "outputs": [],
      "source": []
    }
  ],
  "metadata": {
    "colab": {
      "provenance": []
    },
    "kernelspec": {
      "display_name": "Python 3",
      "name": "python3"
    },
    "language_info": {
      "codemirror_mode": {
        "name": "ipython",
        "version": 3
      },
      "file_extension": ".py",
      "mimetype": "text/x-python",
      "name": "python",
      "nbconvert_exporter": "python",
      "pygments_lexer": "ipython3",
      "version": "3.11.4"
    }
  },
  "nbformat": 4,
  "nbformat_minor": 0
}
