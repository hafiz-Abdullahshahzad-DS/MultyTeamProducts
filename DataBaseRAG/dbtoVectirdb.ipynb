{
 "cells": [
  {
   "cell_type": "code",
   "execution_count": 10,
   "metadata": {},
   "outputs": [
    {
     "data": {
      "text/html": [
       "<div>\n",
       "<style scoped>\n",
       "    .dataframe tbody tr th:only-of-type {\n",
       "        vertical-align: middle;\n",
       "    }\n",
       "\n",
       "    .dataframe tbody tr th {\n",
       "        vertical-align: top;\n",
       "    }\n",
       "\n",
       "    .dataframe thead th {\n",
       "        text-align: right;\n",
       "    }\n",
       "</style>\n",
       "<table border=\"1\" class=\"dataframe\">\n",
       "  <thead>\n",
       "    <tr style=\"text-align: right;\">\n",
       "      <th></th>\n",
       "      <th>url</th>\n",
       "      <th>page_content</th>\n",
       "    </tr>\n",
       "  </thead>\n",
       "  <tbody>\n",
       "    <tr>\n",
       "      <th>0</th>\n",
       "      <td>https://thecurrent.pk/thecurrent-blogs/</td>\n",
       "      <td>\\n\\n\\n\\n THECURRENT BLOGS - The Current Pk\\n\\n...</td>\n",
       "    </tr>\n",
       "    <tr>\n",
       "      <th>1</th>\n",
       "      <td>https://thecurrent.pk/shoaib-bashir-about-muha...</td>\n",
       "      <td>\\n\\n\\n\\n England's Shoaib Bashir reveals Muham...</td>\n",
       "    </tr>\n",
       "    <tr>\n",
       "      <th>2</th>\n",
       "      <td>https://thecurrent.pk/power-play-hope-for-busi...</td>\n",
       "      <td>\\n\\n\\n\\n Power play: Hope for businesses with ...</td>\n",
       "    </tr>\n",
       "    <tr>\n",
       "      <th>3</th>\n",
       "      <td>https://thecurrent.pk/asma-abbas/</td>\n",
       "      <td>\\n\\n\\n\\n 'My husband didn’t allow me to work i...</td>\n",
       "    </tr>\n",
       "    <tr>\n",
       "      <th>4</th>\n",
       "      <td>https://thecurrent.pk/screen-legend-shafqat-ch...</td>\n",
       "      <td>\\n\\n\\n\\n Screen legend Shafqat Cheema is in a ...</td>\n",
       "    </tr>\n",
       "  </tbody>\n",
       "</table>\n",
       "</div>"
      ],
      "text/plain": [
       "                                                 url  \\\n",
       "0            https://thecurrent.pk/thecurrent-blogs/   \n",
       "1  https://thecurrent.pk/shoaib-bashir-about-muha...   \n",
       "2  https://thecurrent.pk/power-play-hope-for-busi...   \n",
       "3                  https://thecurrent.pk/asma-abbas/   \n",
       "4  https://thecurrent.pk/screen-legend-shafqat-ch...   \n",
       "\n",
       "                                        page_content  \n",
       "0  \\n\\n\\n\\n THECURRENT BLOGS - The Current Pk\\n\\n...  \n",
       "1  \\n\\n\\n\\n England's Shoaib Bashir reveals Muham...  \n",
       "2  \\n\\n\\n\\n Power play: Hope for businesses with ...  \n",
       "3  \\n\\n\\n\\n 'My husband didn’t allow me to work i...  \n",
       "4  \\n\\n\\n\\n Screen legend Shafqat Cheema is in a ...  "
      ]
     },
     "execution_count": 10,
     "metadata": {},
     "output_type": "execute_result"
    }
   ],
   "source": [
    "import sqlite3\n",
    "import pandas as pd\n",
    "\n",
    "# Connect to the SQLite database\n",
    "conn = sqlite3.connect('Finalcontent.db')\n",
    "\n",
    "# Fetch URLs and content from the documents table\n",
    "df = pd.read_sql_query(\"SELECT url, page_content FROM documents\", conn)\n",
    "\n",
    "# Close the connection\n",
    "conn.close()\n",
    "\n",
    "# Display the fetched data (optional)\n",
    "df.head()\n"
   ]
  },
  {
   "cell_type": "code",
   "execution_count": 12,
   "metadata": {},
   "outputs": [
    {
     "name": "stderr",
     "output_type": "stream",
     "text": [
      "d:\\Data Science Journey\\theMultyTeam\\env\\Lib\\site-packages\\huggingface_hub\\file_download.py:139: UserWarning: `huggingface_hub` cache-system uses symlinks by default to efficiently store duplicated files but your machine does not support them in C:\\Users\\Abdullah\\.cache\\huggingface\\hub\\models--sentence-transformers--all-mpnet-base-v2. Caching files will still work but in a degraded version that might require more space on your disk. This warning can be disabled by setting the `HF_HUB_DISABLE_SYMLINKS_WARNING` environment variable. For more details, see https://huggingface.co/docs/huggingface_hub/how-to-cache#limitations.\n",
      "To support symlinks on Windows, you either need to activate Developer Mode or to run Python as an administrator. In order to activate developer mode, see this article: https://docs.microsoft.com/en-us/windows/apps/get-started/enable-your-device-for-development\n",
      "  warnings.warn(message)\n",
      "Batches: 100%|██████████| 32/32 [03:33<00:00,  6.68s/it]\n"
     ]
    }
   ],
   "source": [
    "from sentence_transformers import SentenceTransformer\n",
    "\n",
    "# Load the pre-trained embedding model\n",
    "model = SentenceTransformer('all-mpnet-base-v2')\n",
    "\n",
    "# Generate embeddings for each content\n",
    "embeddings = model.encode(df['page_content'].tolist(), show_progress_bar=True)\n",
    "\n",
    "# Add the embeddings to the dataframe\n",
    "df['embedding'] = embeddings.tolist()\n"
   ]
  },
  {
   "cell_type": "code",
   "execution_count": 16,
   "metadata": {},
   "outputs": [],
   "source": [
    "import chromadb\n",
    "\n",
    "# Initialize ChromaDB client\n",
    "client = chromadb.PersistentClient(path=\"./chroma_vector_dbfinal\")\n",
    "collection = client.create_collection(\"documents_collection\")\n",
    "\n",
    "# Add data to the collection\n",
    "collection.add(\n",
    "    ids=[str(i) for i in df.index],  # Unique ids (use document index as id)\n",
    "    documents=df['page_content'].tolist(),  # Document content\n",
    "    embeddings=df['embedding'].tolist(),  # Corresponding vector embeddings\n",
    "    metadatas=[{\"url\": url} for url in df['url']]  # Metadata with URLs\n",
    ")\n"
   ]
  },
  {
   "cell_type": "code",
   "execution_count": 45,
   "metadata": {},
   "outputs": [],
   "source": [
    "# Step 5: Query Function to Search the Vector Database\n",
    "def query_vector_db(user_query, top_k=5):\n",
    "    query_embedding = model.encode([user_query])  # Encode the user query\n",
    "\n",
    "    # Perform similarity search\n",
    "    results = collection.query(\n",
    "        query_embeddings=query_embedding,\n",
    "        n_results=top_k\n",
    "    )\n",
    "    context = \"\"\n",
    "\n",
    "    for doc,url in zip(results[\"documents\"][0],results['metadatas'][0]):\n",
    "\n",
    "        # doc = doc.replace(\"\\n\\n\",\" \")\n",
    "        context += f\"URL: {url['url']} \\n\\n BlogPost:\\n {doc.replace(\"\\n\\n\",\" \")}\"\n",
    "    # # Display results (URLs and content)\n",
    "    # for i, metadata in enumerate(results['metadatas']):\n",
    "    #     print(f\"Result {i+1}:\")\n",
    "    #     # print(f\"URL: {metadata['url']}\")\n",
    "    #     print(f\"Page Content: {results['documents'][i][0]}\")\n",
    "    #     print()\n",
    "    return context\n",
    "# Example usage\n",
    "output = query_vector_db(\"Zakir Naik Visik to Pakistan\", top_k=3)"
   ]
  },
  {
   "cell_type": "code",
   "execution_count": null,
   "metadata": {},
   "outputs": [],
   "source": []
  },
  {
   "cell_type": "code",
   "execution_count": 39,
   "metadata": {},
   "outputs": [
    {
     "name": "stdout",
     "output_type": "stream",
     "text": [
      "[{'url': 'https://thecurrent.pk/dr-zakir-naik-what-a-problematic-man-and-what-a-controversial-tour/'}, {'url': 'https://thecurrent.pk/celebrities-journalists-slam-zakir-naik-for-misbehaving-during-pakistan-tour/'}, {'url': 'https://thecurrent.pk/dr-zakir-naik-faces-criticism-for-complaining-pias-overweight-charges/'}]\n"
     ]
    }
   ],
   "source": [
    "print(output['metadatas'][0])"
   ]
  },
  {
   "cell_type": "code",
   "execution_count": 43,
   "metadata": {},
   "outputs": [
    {
     "data": {
      "text/plain": [
       "3"
      ]
     },
     "execution_count": 43,
     "metadata": {},
     "output_type": "execute_result"
    }
   ],
   "source": [
    "len(output['documents'][0])"
   ]
  },
  {
   "cell_type": "code",
   "execution_count": 42,
   "metadata": {},
   "outputs": [
    {
     "name": "stdout",
     "output_type": "stream",
     "text": [
      "   Celebrities, journalists slam Zakir Naik for misbehaving during Pakistan tour - The Current Pk         \n",
      "                                                                \n",
      "      \n",
      "          \n",
      "Search \n",
      "                                        \n",
      "Search \n",
      "              \n",
      "                                           Celebrities, journalists slam Zakir Naik for misbehaving during Pakistan tour           \n",
      "                \n",
      "Celebrities and journalists have slammed Indian scholar Dr Zakir Naik for behaving disrespectfully and rudely in Pakistan. His insulting remarks about women have left many people upset.\n",
      "Controversial remarks on hospitality:                \n",
      "Speaking at the Governor House in Karachi, he was offended by recalling his tour to Pakistan and stated that the PIA Chief Executive Officer (CEO) offered him a 50 per cent discount on his overloaded 500 KG baggage and questioned Pakistan:s hospitality.\n",
      "Zakir Naik said, “If I were in an Indian airport, they would even let me load 1000 KG of baggage free in the plane,” and confirmed he never paid overweight at an Indian airport. “I am a state guest in Pakistan, but my extra luggage was not loaded free.”Actor Aijaz Aslam took to Instagram to respond to Naik comments, suggesting he should consider the content of his luggage, “Practice what you preach sir 🙏 ,check tou ye bhee karna chahiye tha k 600 kg saman Mein Kya tha.”\n",
      "Iffat Omar also tweeted, “I really want to know who thought of inviting him as a State Guest, who? 😡@CMShehbaz @pmln_org @MediaCelPPP.”\n",
      "Disrespectful remarks about women:\n",
      "Dr Zakir Naik controversial remarks didn’t stop there, however. “If you ask a good (pious) woman that if you’re not able to find a man who doesn’t have a wife and you have two options, marry a man who is already married or become a bazaari aurat, then a good woman will always say that I’ll go for the first one.”\n",
      "This statement horrified many celebrities, including Iffat Omar, Nadia Hussain, Anoushey Ashraf and journalist Syed Shafaat Ali Khan. Absa Komal tweeted on X (formerly Twitter): “This man Zakir Naik thinks 13-14 years old orphan girls are ‘khawateen’ (grown-ups) & he can’t share the stage with them.He publicly criticizes national airline for denying luggage fee waiver,also says that women who choose to remain unmarried instead of becoming a second wife to someone are public property (bazaar). He also snubs a Pukhtun girl for asking a legit question about pedophilia.” \n",
      "“Despite all this, gained some more followers, & some brain dead people are defending him, clearly we as a nation are MAGNET for arrogant people & women haters. State should invite reasonable people, we already have plenty of these roaming on the streets. Yeh Wrong Number Hai!!!!!”, Absa wrote.\n",
      " \n",
      "Actress Anoshey Ashraf took to Instagram and posted a story with the caption, ““First we say, Allah makes pairs and one’s wedding happens when God wills it. Then we say ‘you’ve got to be someone’s second wife or a bazaari aurat’ if you’re not married in time? How can I be married if Allah hasn’t willed it yet?”Actress and model Nadia Hussain also shared he views on Instgram, saying, “Unmarried women, you are not bazaari, you are not public property. Married or not married, children or no children you are respectable members of society. Please do not let anyone think of you otherwise.”\n",
      "While Shafaat Ali tweed, “Here’s something we all need to understand: Women; whether they choose not to marry, struggle to find a suitable partner, or become widows, are NOT public property.\n",
      "This mindset is neither Islamic, humane, nor rational.\n",
      "No matter who says it, it’s offensively stupid!”         \tNews Desk            \n",
      "Search \n",
      "               \n",
      "                         \n",
      "    \n",
      "                                   \n"
     ]
    }
   ],
   "source": [
    "print(output['documents'][0][1].replace(\"\\n\\n\",\" \").replace(\"\\t\\t\",\" \"))"
   ]
  },
  {
   "cell_type": "code",
   "execution_count": null,
   "metadata": {},
   "outputs": [],
   "source": []
  }
 ],
 "metadata": {
  "kernelspec": {
   "display_name": "env",
   "language": "python",
   "name": "python3"
  },
  "language_info": {
   "codemirror_mode": {
    "name": "ipython",
    "version": 3
   },
   "file_extension": ".py",
   "mimetype": "text/x-python",
   "name": "python",
   "nbconvert_exporter": "python",
   "pygments_lexer": "ipython3",
   "version": "3.12.6"
  }
 },
 "nbformat": 4,
 "nbformat_minor": 2
}
